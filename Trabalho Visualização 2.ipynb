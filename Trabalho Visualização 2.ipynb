{
 "cells": [
  {
   "cell_type": "code",
   "execution_count": 22,
   "metadata": {},
   "outputs": [
    {
     "data": {
      "text/html": [
       "<div>\n",
       "<style scoped>\n",
       "    .dataframe tbody tr th:only-of-type {\n",
       "        vertical-align: middle;\n",
       "    }\n",
       "\n",
       "    .dataframe tbody tr th {\n",
       "        vertical-align: top;\n",
       "    }\n",
       "\n",
       "    .dataframe thead th {\n",
       "        text-align: right;\n",
       "    }\n",
       "</style>\n",
       "<table border=\"1\" class=\"dataframe\">\n",
       "  <thead>\n",
       "    <tr style=\"text-align: right;\">\n",
       "      <th></th>\n",
       "      <th>Identificador do processo de viagem</th>\n",
       "      <th>Número da Proposta (PCDP)</th>\n",
       "      <th>Situação</th>\n",
       "      <th>Viagem Urgente</th>\n",
       "      <th>Justificativa Urgência Viagem</th>\n",
       "      <th>Código do órgão superior</th>\n",
       "      <th>Nome do órgão superior</th>\n",
       "      <th>Código órgão solicitante</th>\n",
       "      <th>Nome órgão solicitante</th>\n",
       "      <th>CPF viajante</th>\n",
       "      <th>...</th>\n",
       "      <th>Função</th>\n",
       "      <th>Descrição Função</th>\n",
       "      <th>Período - Data de início</th>\n",
       "      <th>Período - Data de fim</th>\n",
       "      <th>Destinos</th>\n",
       "      <th>Motivo</th>\n",
       "      <th>Valor diárias</th>\n",
       "      <th>Valor passagens</th>\n",
       "      <th>Valor devolução</th>\n",
       "      <th>Valor outros gastos</th>\n",
       "    </tr>\n",
       "  </thead>\n",
       "  <tbody>\n",
       "    <tr>\n",
       "      <th>0</th>\n",
       "      <td>18831091</td>\n",
       "      <td>000011/24</td>\n",
       "      <td>Realizada</td>\n",
       "      <td>NÃO</td>\n",
       "      <td>Sem informação</td>\n",
       "      <td>26000</td>\n",
       "      <td>Ministério da Educação</td>\n",
       "      <td>26425</td>\n",
       "      <td>Instituto Federal do Acre</td>\n",
       "      <td>***.405.257-**</td>\n",
       "      <td>...</td>\n",
       "      <td>-1</td>\n",
       "      <td>Sem informação</td>\n",
       "      <td>23/02/2024</td>\n",
       "      <td>25/02/2024</td>\n",
       "      <td>Rio Branco/AC</td>\n",
       "      <td>Ministrar a disciplina de Conceitos e Aplicaçõ...</td>\n",
       "      <td>929,18</td>\n",
       "      <td>0,00</td>\n",
       "      <td>0,00</td>\n",
       "      <td>0,00</td>\n",
       "    </tr>\n",
       "    <tr>\n",
       "      <th>1</th>\n",
       "      <td>18831495</td>\n",
       "      <td>000001/24</td>\n",
       "      <td>Realizada</td>\n",
       "      <td>NÃO</td>\n",
       "      <td>Sem informação</td>\n",
       "      <td>26000</td>\n",
       "      <td>Ministério da Educação</td>\n",
       "      <td>26274</td>\n",
       "      <td>Fundação Universidade Federal de Uberlândia</td>\n",
       "      <td>***.587.016-**</td>\n",
       "      <td>...</td>\n",
       "      <td>-1</td>\n",
       "      <td>Sem informação</td>\n",
       "      <td>18/01/2024</td>\n",
       "      <td>22/01/2024</td>\n",
       "      <td>São Paulo/SP</td>\n",
       "      <td>Participação nas atividades do ESTAGIO DE CAPA...</td>\n",
       "      <td>0,00</td>\n",
       "      <td>0,00</td>\n",
       "      <td>0,00</td>\n",
       "      <td>0,00</td>\n",
       "    </tr>\n",
       "    <tr>\n",
       "      <th>2</th>\n",
       "      <td>18831777</td>\n",
       "      <td>000002/24</td>\n",
       "      <td>Realizada</td>\n",
       "      <td>NÃO</td>\n",
       "      <td>Sem informação</td>\n",
       "      <td>26000</td>\n",
       "      <td>Ministério da Educação</td>\n",
       "      <td>26274</td>\n",
       "      <td>Fundação Universidade Federal de Uberlândia</td>\n",
       "      <td>***.587.016-**</td>\n",
       "      <td>...</td>\n",
       "      <td>-1</td>\n",
       "      <td>Sem informação</td>\n",
       "      <td>29/02/2024</td>\n",
       "      <td>04/03/2024</td>\n",
       "      <td>São Paulo/SP</td>\n",
       "      <td>Participação nas atividades do ESTAGIO DE CAPA...</td>\n",
       "      <td>0,00</td>\n",
       "      <td>0,00</td>\n",
       "      <td>0,00</td>\n",
       "      <td>0,00</td>\n",
       "    </tr>\n",
       "    <tr>\n",
       "      <th>3</th>\n",
       "      <td>18831821</td>\n",
       "      <td>000003/24</td>\n",
       "      <td>Realizada</td>\n",
       "      <td>NÃO</td>\n",
       "      <td>Sem informação</td>\n",
       "      <td>26000</td>\n",
       "      <td>Ministério da Educação</td>\n",
       "      <td>26274</td>\n",
       "      <td>Fundação Universidade Federal de Uberlândia</td>\n",
       "      <td>***.587.016-**</td>\n",
       "      <td>...</td>\n",
       "      <td>-1</td>\n",
       "      <td>Sem informação</td>\n",
       "      <td>11/04/2024</td>\n",
       "      <td>15/04/2024</td>\n",
       "      <td>São Paulo/SP</td>\n",
       "      <td>Participação nas atividades do ESTAGIO DE CAPA...</td>\n",
       "      <td>0,00</td>\n",
       "      <td>0,00</td>\n",
       "      <td>0,00</td>\n",
       "      <td>0,00</td>\n",
       "    </tr>\n",
       "    <tr>\n",
       "      <th>4</th>\n",
       "      <td>19177818</td>\n",
       "      <td>000001/24-1C</td>\n",
       "      <td>Realizada</td>\n",
       "      <td>SIM</td>\n",
       "      <td>Inclusão das diárias.</td>\n",
       "      <td>26000</td>\n",
       "      <td>Ministério da Educação</td>\n",
       "      <td>26271</td>\n",
       "      <td>Fundação Universidade de Brasília</td>\n",
       "      <td>***.626.601-**</td>\n",
       "      <td>...</td>\n",
       "      <td>-1</td>\n",
       "      <td>Sem informação</td>\n",
       "      <td>29/01/2024</td>\n",
       "      <td>06/02/2024</td>\n",
       "      <td>Lille/França, Paris/França</td>\n",
       "      <td>Programação dos eventos que a Professora irá p...</td>\n",
       "      <td>14176,38</td>\n",
       "      <td>6892,31</td>\n",
       "      <td>0,00</td>\n",
       "      <td>0,00</td>\n",
       "    </tr>\n",
       "  </tbody>\n",
       "</table>\n",
       "<p>5 rows × 22 columns</p>\n",
       "</div>"
      ],
      "text/plain": [
       "   Identificador do processo de viagem Número da Proposta (PCDP)   Situação  \\\n",
       "0                             18831091                 000011/24  Realizada   \n",
       "1                             18831495                 000001/24  Realizada   \n",
       "2                             18831777                 000002/24  Realizada   \n",
       "3                             18831821                 000003/24  Realizada   \n",
       "4                             19177818              000001/24-1C  Realizada   \n",
       "\n",
       "  Viagem Urgente Justificativa Urgência Viagem  Código do órgão superior  \\\n",
       "0            NÃO                Sem informação                     26000   \n",
       "1            NÃO                Sem informação                     26000   \n",
       "2            NÃO                Sem informação                     26000   \n",
       "3            NÃO                Sem informação                     26000   \n",
       "4            SIM         Inclusão das diárias.                     26000   \n",
       "\n",
       "   Nome do órgão superior  Código órgão solicitante  \\\n",
       "0  Ministério da Educação                     26425   \n",
       "1  Ministério da Educação                     26274   \n",
       "2  Ministério da Educação                     26274   \n",
       "3  Ministério da Educação                     26274   \n",
       "4  Ministério da Educação                     26271   \n",
       "\n",
       "                        Nome órgão solicitante    CPF viajante  ... Função  \\\n",
       "0                    Instituto Federal do Acre  ***.405.257-**  ...     -1   \n",
       "1  Fundação Universidade Federal de Uberlândia  ***.587.016-**  ...     -1   \n",
       "2  Fundação Universidade Federal de Uberlândia  ***.587.016-**  ...     -1   \n",
       "3  Fundação Universidade Federal de Uberlândia  ***.587.016-**  ...     -1   \n",
       "4            Fundação Universidade de Brasília  ***.626.601-**  ...     -1   \n",
       "\n",
       "  Descrição Função Período - Data de início Período - Data de fim  \\\n",
       "0   Sem informação               23/02/2024            25/02/2024   \n",
       "1   Sem informação               18/01/2024            22/01/2024   \n",
       "2   Sem informação               29/02/2024            04/03/2024   \n",
       "3   Sem informação               11/04/2024            15/04/2024   \n",
       "4   Sem informação               29/01/2024            06/02/2024   \n",
       "\n",
       "                     Destinos  \\\n",
       "0               Rio Branco/AC   \n",
       "1                São Paulo/SP   \n",
       "2                São Paulo/SP   \n",
       "3                São Paulo/SP   \n",
       "4  Lille/França, Paris/França   \n",
       "\n",
       "                                              Motivo Valor diárias  \\\n",
       "0  Ministrar a disciplina de Conceitos e Aplicaçõ...        929,18   \n",
       "1  Participação nas atividades do ESTAGIO DE CAPA...          0,00   \n",
       "2  Participação nas atividades do ESTAGIO DE CAPA...          0,00   \n",
       "3  Participação nas atividades do ESTAGIO DE CAPA...          0,00   \n",
       "4  Programação dos eventos que a Professora irá p...      14176,38   \n",
       "\n",
       "  Valor passagens Valor devolução Valor outros gastos  \n",
       "0            0,00            0,00                0,00  \n",
       "1            0,00            0,00                0,00  \n",
       "2            0,00            0,00                0,00  \n",
       "3            0,00            0,00                0,00  \n",
       "4         6892,31            0,00                0,00  \n",
       "\n",
       "[5 rows x 22 columns]"
      ]
     },
     "execution_count": 22,
     "metadata": {},
     "output_type": "execute_result"
    }
   ],
   "source": [
    "import pandas as pd\n",
    "import os\n",
    "import plotly.express as px\n",
    "dados_2024 = pd.read_csv('dados/2024_Viagem.csv', sep=';', encoding='latin-1')\n",
    "dados_2024.head(5)"
   ]
  },
  {
   "cell_type": "markdown",
   "metadata": {},
   "source": [
    "Analisando os dados e descobrindo a quantidade de gastos por ministério em 2024. Vale destacar que é possível obter todos os mesmos valores com esses códigos para os anos anteriores, mas por conta do volume de dados e tempo de processamento necessário para executar o código, optamos por colocar somente  a tabela de 2024. As demais tabelas estão disponíveis no site https://portaldatransparencia.gov.br/download-de-dados/viagens . "
   ]
  },
  {
   "cell_type": "code",
   "execution_count": 20,
   "metadata": {},
   "outputs": [
    {
     "data": {
      "text/plain": [
       "Nome do órgão superior\n",
       "Sem informação                                                   6.857747e+08\n",
       "Ministério da Justiça e Segurança Pública                        3.214306e+08\n",
       "Ministério da Defesa                                             3.047604e+08\n",
       "Ministério da Educação                                           2.681042e+08\n",
       "Ministério do Meio Ambiente e Mudança do Clima                   1.134884e+08\n",
       "Ministério da Saúde                                              8.452008e+07\n",
       "Ministério das Relações Exteriores                               7.438678e+07\n",
       "Ministério da Previdência Social                                 6.694531e+07\n",
       "Ministério do Planejamento e Orçamento                           5.295148e+07\n",
       "Ministério dos Transportes                                       4.848881e+07\n",
       "Presidência da República                                         4.513057e+07\n",
       "Ministério da Agricultura e Pecuária                             4.037960e+07\n",
       "Ministério do Desenvolvimento Agrário e Agricultura Familiar     3.147306e+07\n",
       "Ministério dos Povos Indígenas                                   2.544190e+07\n",
       "Ministério de Minas e Energia                                    1.882010e+07\n",
       "Ministério das Comunicações                                      1.588590e+07\n",
       "Ministério dos Direitos Humanos e Cidadania                      1.422849e+07\n",
       "Ministério da Integração e do Desenvolvimento Regional           1.232753e+07\n",
       "Ministério da Cultura                                            1.154071e+07\n",
       "Advocacia-Geral da União                                         1.045729e+07\n",
       "Ministério da Ciência, Tecnologia e Inovação                     9.178688e+06\n",
       "Ministério do Desenvolvimento, Indústria, Comércio e Serviços    7.030140e+06\n",
       "Controladoria-Geral da União                                     6.870301e+06\n",
       "Ministério da Fazenda                                            3.364725e+06\n",
       "Ministério do Turismo                                            2.960878e+06\n",
       "Ministério da Gestão e da Inovação em Serviços Públicos          1.397004e+06\n",
       "Ministério do Trabalho e Emprego                                 5.119718e+05\n",
       "Name: Total gasto, dtype: float64"
      ]
     },
     "execution_count": 20,
     "metadata": {},
     "output_type": "execute_result"
    }
   ],
   "source": [
    "dados_2024['Total gasto'] = dados_2024[['Valor diárias', 'Valor passagens', 'Valor outros gastos']].apply(lambda row: row.str.replace(',', '.').astype(float).sum(), axis=1)\n",
    "dados_realizadas_2024 = dados_2024[dados_2024['Situação'] == 'Realizada']\n",
    "gastos_por_orgao_2024 = dados_realizadas_2024.groupby('Nome do órgão superior')['Total gasto'].sum()\n",
    "gastos_por_orgao_2024.sort_values(ascending=False)\n",
    "\n"
   ]
  },
  {
   "cell_type": "code",
   "execution_count": 21,
   "metadata": {},
   "outputs": [],
   "source": [
    "gastos_por_orgao_2024.to_csv('gastos_por_orgao.csv', header=True, encoding='latin-1')"
   ]
  },
  {
   "cell_type": "code",
   "execution_count": 4,
   "metadata": {},
   "outputs": [
    {
     "data": {
      "text/plain": [
       "30.780998594868812"
      ]
     },
     "execution_count": 4,
     "metadata": {},
     "output_type": "execute_result"
    }
   ],
   "source": [
    "total_gasto_2024 = dados_realizadas_2024['Total gasto'].sum()\n",
    "gastos_sem_informacao_2024 = dados_realizadas_2024.loc[dados_realizadas_2024['Nome do órgão superior'] == 'Sem informação', 'Total gasto'].sum()\n",
    "porcentagem_gastos_sem_informacao_2024 = (gastos_sem_informacao_2024 / total_gasto_2024) * 100\n",
    "porcentagem_gastos_sem_informacao_2024 "
   ]
  },
  {
   "cell_type": "markdown",
   "metadata": {},
   "source": [
    "Com o código acima, foi possível descobrir a porcentagem de gastos em viagens sigilosas (Sem informação). Agora vou fazer um dataframe para a presidência com o objetivo de descobrir os países que mais receberam viagens."
   ]
  },
  {
   "cell_type": "code",
   "execution_count": 7,
   "metadata": {},
   "outputs": [],
   "source": [
    "df_presidencia = dados_realizadas_2024[dados_realizadas_2024['Nome do órgão superior'] == 'Presidência da República'].copy()\n",
    "\n",
    "def classificar_viagem(destino):\n",
    "    if destino == \"Informações protegidas por sigilo\" or destino == \"Sem informação\":\n",
    "        return 'Não informada'\n",
    "    estados_brasil = ['AC', 'AL', 'AP', 'AM', 'BA', 'CE', 'DF', 'ES', 'GO', 'MA', 'MT', 'MS', 'MG', 'PA', 'PB', 'PR', 'PE', 'PI', 'RJ', 'RN', 'RS', 'RO', 'RR', 'SC', 'SP', 'SE', 'TO']\n",
    "    \n",
    "    if any(estado in destino for estado in estados_brasil):\n",
    "        return 'Nacional'\n",
    "    else:\n",
    "        return 'Internacional'\n",
    "\n",
    "df_presidencia.loc[:, 'Tipo de Viagem'] = df_presidencia['Destinos'].apply(classificar_viagem)\n",
    "\n",
    "df_internacionais = df_presidencia[df_presidencia['Tipo de Viagem'] == 'Internacional'].copy()\n",
    "\n",
    "df_internacionais['País'] = df_internacionais['Destinos'].apply(lambda x: x.split('/')[-1].strip() if '/' in x else x)\n",
    "\n",
    "top_paises = df_internacionais['País'].value_counts()\n",
    "\n",
    "top_paises.to_csv('top_paises.csv', header=True)\n"
   ]
  },
  {
   "cell_type": "markdown",
   "metadata": {},
   "source": [
    "No código acima, eu descobri qual viagens são internacionais e quais são nacionais, e gerei uma tabela com os principais destinos internacionais. Agora vou descobrir os paíes que tiveram mais gastos com viagens."
   ]
  },
  {
   "cell_type": "code",
   "execution_count": 8,
   "metadata": {},
   "outputs": [],
   "source": [
    "df_internacionais = df_presidencia[df_presidencia['Tipo de Viagem'] == 'Internacional'].copy()\n",
    "\n",
    "df_internacionais['País'] = df_internacionais['Destinos'].apply(lambda x: x.split('/')[-1].strip() if '/' in x else x)\n",
    "\n",
    "gastos_por_pais = df_internacionais.groupby('País')['Total gasto'].sum()\n",
    "\n",
    "top_gastos_pais = gastos_por_pais.sort_values(ascending=False)\n",
    "\n",
    "top_gastos_pais\n",
    "\n",
    "top_gastos_pais.to_csv('top_gastos_pais.csv', header=True)\n",
    "\n"
   ]
  },
  {
   "cell_type": "code",
   "execution_count": 9,
   "metadata": {},
   "outputs": [
    {
     "data": {
      "text/plain": [
       "Janeiro      2.406410e+08\n",
       "Fevereiro    1.273171e+08\n",
       "Março        1.751891e+08\n",
       "Abril        1.787477e+08\n",
       "Maio         1.863196e+08\n",
       "Name: Total gasto, dtype: float64"
      ]
     },
     "execution_count": 9,
     "metadata": {},
     "output_type": "execute_result"
    }
   ],
   "source": [
    "dados_2024['Período - Data de início'] = pd.to_datetime(dados_2024['Período - Data de início'], format='%d/%m/%Y')\n",
    "dados_2024['Mês'] = dados_2024['Período - Data de início'].dt.month\n",
    "\n",
    "dados_realizadas_2024 = dados_2024[dados_2024['Situação'] == 'Realizada']\n",
    "gastos_mensais_totais = dados_realizadas_2024.groupby('Mês')['Total gasto'].sum()\n",
    "\n",
    "gastos_mensais_totais = gastos_mensais_totais.reindex([1, 2, 3, 4, 5, 6, 7, 8, 9, 10, 11, 12])\n",
    "\n",
    "gastos_mensais_totais.index = ['Janeiro', 'Fevereiro', 'Março', 'Abril', 'Maio', 'Junho', 'Julho', 'Agosto', 'Setembro', 'Outubro', 'Novembro', 'Dezembro']\n",
    "\n",
    "gastos_mensais_totais.to_csv('Gastos mês a mês.csv', header=True, encoding='latin-1')\n",
    "gastos_mensais_totais.head()"
   ]
  },
  {
   "cell_type": "markdown",
   "metadata": {},
   "source": [
    "O código acima me permitiu descobrir os gastos mês a mês do governo federal.\n",
    "\n",
    "E agora para finalizar, vou descobrir quais foram as 10 viagens mais caras do governo federal e da presidência. "
   ]
  },
  {
   "cell_type": "code",
   "execution_count": 14,
   "metadata": {},
   "outputs": [],
   "source": [
    "top_10_viagens = dados_realizadas_2024.nlargest(10, 'Total gasto')\n",
    "\n",
    "top_10_viagens.to_csv('top_10_viagens.csv', index=False, encoding='latin-1')\n",
    "\n",
    "viagens_presidencia = dados_realizadas_2024[dados_realizadas_2024['Nome do órgão superior'] == 'Presidência da República']\n",
    "top_10_viagens_presidencia = viagens_presidencia.nlargest(10, 'Total gasto')\n",
    "top_10_viagens_presidencia.to_csv('top_10_viagens_presidencia.csv', index=False, encoding='latin-1')"
   ]
  },
  {
   "cell_type": "code",
   "execution_count": 18,
   "metadata": {},
   "outputs": [],
   "source": [
    "viagens_mauro_vieira = dados_realizadas_2024[dados_realizadas_2024['Nome'] == 'MAURO LUIZ IECKER VIEIRA']\n",
    "viagens_mauro_vieira.to_csv('viagens_mauro_vieira.csv', index=False, encoding='latin-1')"
   ]
  }
 ],
 "metadata": {
  "kernelspec": {
   "display_name": "Python 3",
   "language": "python",
   "name": "python3"
  },
  "language_info": {
   "codemirror_mode": {
    "name": "ipython",
    "version": 3
   },
   "file_extension": ".py",
   "mimetype": "text/x-python",
   "name": "python",
   "nbconvert_exporter": "python",
   "pygments_lexer": "ipython3",
   "version": "3.12.2"
  }
 },
 "nbformat": 4,
 "nbformat_minor": 2
}
